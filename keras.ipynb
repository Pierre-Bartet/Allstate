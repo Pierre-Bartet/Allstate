{
 "cells": [
  {
   "cell_type": "markdown",
   "metadata": {},
   "source": [
    "# Keras model"
   ]
  },
  {
   "cell_type": "markdown",
   "metadata": {},
   "source": [
    "* Let's try with neural networks !"
   ]
  },
  {
   "cell_type": "code",
   "execution_count": 1,
   "metadata": {
    "collapsed": false,
    "scrolled": true
   },
   "outputs": [
    {
     "name": "stderr",
     "output_type": "stream",
     "text": [
      "Using Theano backend.\n"
     ]
    }
   ],
   "source": [
    "%matplotlib inline\n",
    "\n",
    "import warnings\n",
    "warnings.filterwarnings('ignore')\n",
    "\n",
    "import pandas as pd\n",
    "import numpy as np\n",
    "from sklearn import metrics\n",
    "from sklearn import preprocessing\n",
    "from sklearn import utils\n",
    "\n",
    "from keras.models import Sequential\n",
    "from keras.layers import Dense\n",
    "from keras.layers import Activation\n",
    "from keras.layers import Dropout\n",
    "from sklearn.model_selection import cross_val_score\n",
    "\n",
    "import matplotlib.pyplot as plt"
   ]
  },
  {
   "cell_type": "markdown",
   "metadata": {},
   "source": [
    "* Load train data:"
   ]
  },
  {
   "cell_type": "code",
   "execution_count": 2,
   "metadata": {
    "collapsed": false
   },
   "outputs": [],
   "source": [
    "data_train = pd.read_csv(\"data/train.csv\")\n",
    "data_train.drop(\"id\", axis = 1, inplace=True)"
   ]
  },
  {
   "cell_type": "markdown",
   "metadata": {},
   "source": [
    "* Load test data:"
   ]
  },
  {
   "cell_type": "code",
   "execution_count": 3,
   "metadata": {
    "collapsed": true
   },
   "outputs": [],
   "source": [
    "data_test = pd.read_csv(\"data/test.csv\")\n",
    "ids = data_test.values[:, 0]\n",
    "data_test.drop(\"id\", axis = 1, inplace=True)"
   ]
  },
  {
   "cell_type": "markdown",
   "metadata": {},
   "source": [
    "* Concatenate train and test datasets in order to fit the transformers, so that we encounter no unknown categories when transforming:"
   ]
  },
  {
   "cell_type": "code",
   "execution_count": 4,
   "metadata": {
    "collapsed": false
   },
   "outputs": [
    {
     "data": {
      "text/plain": [
       "OneHotEncoder(categorical_features='all', dtype=<type 'numpy.float64'>,\n",
       "       handle_unknown='error', n_values='auto', sparse=False)"
      ]
     },
     "execution_count": 4,
     "metadata": {},
     "output_type": "execute_result"
    }
   ],
   "source": [
    "#Concatenate test and train:\n",
    "whole_categ_data = pd.concat( [ data_train.iloc[:,0:116], data_test.iloc[:,0:116] ], ignore_index=True ).iloc[:, 0:116]\n",
    "\n",
    "#Fit label encoder:\n",
    "from collections import defaultdict\n",
    "label_encoder = defaultdict( preprocessing.LabelEncoder )\n",
    "whole_categ_data = whole_categ_data.apply(lambda x: label_encoder[x.name].fit_transform(x) )\n",
    "\n",
    "#Transform test and train with label encoding\n",
    "data_train.iloc[:, 0:116] = data_train.iloc[:,0:116].apply(lambda x: label_encoder[x.name].transform(x) )\n",
    "data_test.iloc[:, 0:116] = data_test.iloc[:,0:116].apply(lambda x: label_encoder[x.name].transform(x) )\n",
    "\n",
    "#Fit one hot encoder\n",
    "one_hot_encoder = preprocessing.OneHotEncoder( sparse = False )\n",
    "one_hot_encoder.fit( whole_categ_data.values )"
   ]
  },
  {
   "cell_type": "markdown",
   "metadata": {},
   "source": [
    "* Extract features and target:"
   ]
  },
  {
   "cell_type": "code",
   "execution_count": 5,
   "metadata": {
    "collapsed": true
   },
   "outputs": [],
   "source": [
    "X = data_train.values[:, :-1]\n",
    "y = data_train.values[:, -1]"
   ]
  },
  {
   "cell_type": "markdown",
   "metadata": {},
   "source": [
    "* Transform train with one hot encoding"
   ]
  },
  {
   "cell_type": "code",
   "execution_count": 6,
   "metadata": {
    "collapsed": false
   },
   "outputs": [
    {
     "name": "stdout",
     "output_type": "stream",
     "text": [
      "(188318, 1190)\n"
     ]
    }
   ],
   "source": [
    "labels = one_hot_encoder.transform( X[:,:116] )\n",
    "X = np.hstack( ( labels ,  X[:,116:] ) )\n",
    "print X.shape"
   ]
  },
  {
   "cell_type": "markdown",
   "metadata": {},
   "source": [
    "* Shuffle (will probably be useless, just to avoid mistakes due to forgotten shuffling)"
   ]
  },
  {
   "cell_type": "code",
   "execution_count": 7,
   "metadata": {
    "collapsed": true
   },
   "outputs": [],
   "source": [
    "X, y = utils.shuffle(X, y)"
   ]
  },
  {
   "cell_type": "markdown",
   "metadata": {},
   "source": [
    "* Function to build our Keras neural network:"
   ]
  },
  {
   "cell_type": "code",
   "execution_count": 8,
   "metadata": {
    "collapsed": false
   },
   "outputs": [],
   "source": [
    "def create_model(params):\n",
    "    nn = Sequential()\n",
    "\n",
    "    #Layers\n",
    "    for i in xrange( params['n_layers'] ):\n",
    "        if i == 0 : #Input layer\n",
    "            nn.add( Dense( params['n_units'] , input_dim=X.shape[1]) )\n",
    "        else: #Hidden layers\n",
    "            nn.add( Dense( params['n_units']) )\n",
    "            \n",
    "        if( params['activation'] == 'prelu' ) : \n",
    "            nn.add( PReLU() )\n",
    "        elif( params['activation'] == 'relu' ):\n",
    "            nn.add( Activation( 'relu' ) )   \n",
    "        if( params['dropout'] != 0.0 ) : nn.add( Dropout(params['dropout']) )\n",
    "        \n",
    "    #Output\n",
    "    nn.add( Dense(1) )\n",
    "    nn.compile(loss='mae', optimizer='adam')\n",
    "    \n",
    "    return nn"
   ]
  },
  {
   "cell_type": "markdown",
   "metadata": {
    "collapsed": true
   },
   "source": [
    "* Contrary to what I did with xgboost I will not perform k-fold cross validation when optimizing because it's sooo long on a laptop with no gpu :("
   ]
  },
  {
   "cell_type": "code",
   "execution_count": 9,
   "metadata": {
    "collapsed": false
   },
   "outputs": [],
   "source": [
    "from hyperopt import hp\n",
    "from hyperopt import fmin, STATUS_OK, tpe, space_eval\n",
    "from keras.callbacks import EarlyStopping\n",
    "from keras.layers.advanced_activations import PReLU\n",
    "\n",
    "def score(params):  \n",
    "    print \"Training with params : \"\n",
    "    print params\n",
    "    \n",
    "    early_stopping = EarlyStopping(monitor='val_loss', min_delta=0, patience=4, verbose=0, mode='auto')\n",
    "    model = create_model(params)\n",
    "    \n",
    "    fit = model.fit( X, y, nb_epoch=100, batch_size=128, verbose=0, validation_split=0.2, callbacks=[early_stopping] )\n",
    "    \n",
    "    hist = fit.history\n",
    "    print 'MAE val score:', hist['val_loss'][-1]\n",
    "  \n",
    "    return {'loss': hist['val_loss'][-1], 'status': STATUS_OK}"
   ]
  },
  {
   "cell_type": "markdown",
   "metadata": {},
   "source": [
    "* The optimization has been done in a terminal since it's not possible to ctrl + z then fg when inside a notebook :("
   ]
  },
  {
   "cell_type": "code",
   "execution_count": 10,
   "metadata": {
    "collapsed": false,
    "scrolled": true
   },
   "outputs": [],
   "source": [
    "#Find best\n",
    "space = {\n",
    "             'n_layers' : hp.choice('n_layers', [1, 2, 3, 4]),\n",
    "             'n_units' :  hp.choice('n_units', [128, 256, 512, 1024]),\n",
    "             'activation' : hp.choice('activation', ['relu', 'prelu']),\n",
    "             'dropout' : hp.uniform('dropout', 0.1, 0.9)\n",
    "             }\n",
    "\n",
    "#best = fmin(score, space, algo=tpe.suggest, max_evals=2)\n",
    "#best = space_eval(space, best)\n",
    "\n",
    "#Terminal result :\n",
    "best = {'n_units': 1024, 'activation': 'prelu', 'n_layers': 2, 'dropout': 0.61}"
   ]
  },
  {
   "cell_type": "markdown",
   "metadata": {},
   "source": [
    "* Let's have a look at our best model performance (we already know the result from the optimisation script but let's put it in the notebook) :"
   ]
  },
  {
   "cell_type": "code",
   "execution_count": 11,
   "metadata": {
    "collapsed": false
   },
   "outputs": [
    {
     "name": "stdout",
     "output_type": "stream",
     "text": [
      "MAE val score: 1145.30055666\n"
     ]
    }
   ],
   "source": [
    "model = create_model(best)\n",
    "early_stopping = EarlyStopping(monitor='val_loss', min_delta=0, patience=4, verbose=0, mode='auto')\n",
    "fit = model.fit( X, y, nb_epoch=100, batch_size=128, verbose=0, validation_split=0.2, callbacks=[early_stopping] )\n",
    "    \n",
    "hist = fit.history\n",
    "print 'MAE val score:', hist['val_loss'][-1]"
   ]
  },
  {
   "cell_type": "markdown",
   "metadata": {},
   "source": [
    "* Plot train and validation MAE as a function of the epoch:"
   ]
  },
  {
   "cell_type": "code",
   "execution_count": 12,
   "metadata": {
    "collapsed": false
   },
   "outputs": [
    {
     "data": {
      "text/plain": [
       "[<matplotlib.lines.Line2D at 0x7f687a877a10>]"
      ]
     },
     "execution_count": 12,
     "metadata": {},
     "output_type": "execute_result"
    },
    {
     "data": {
      "image/png": "[encoded data removed]",
      "text/plain": [
       "<matplotlib.figure.Figure at 0x7f687a877a50>"
      ]
     },
     "metadata": {},
     "output_type": "display_data"
    }
   ],
   "source": [
    "plt.plot( range( len(hist['loss']) ), hist['loss'] )\n",
    "plt.plot( range( len(hist['loss']) ), hist['val_loss'] )"
   ]
  },
  {
   "cell_type": "markdown",
   "metadata": {},
   "source": [
    "* Now we can train on the whole dataset:"
   ]
  },
  {
   "cell_type": "code",
   "execution_count": 13,
   "metadata": {
    "collapsed": true
   },
   "outputs": [],
   "source": [
    "keras_model = create_model(best)\n",
    "fit = keras_model.fit( X, y, nb_epoch=30, batch_size=128, verbose=0 )"
   ]
  },
  {
   "cell_type": "markdown",
   "metadata": {},
   "source": [
    "* And predict the target on the test set:"
   ]
  },
  {
   "cell_type": "code",
   "execution_count": 14,
   "metadata": {
    "collapsed": false
   },
   "outputs": [],
   "source": [
    "X = data_test.values\n",
    "\n",
    "labels = one_hot_encoder.transform( X[:,:116] )\n",
    "X = np.hstack( ( labels ,  X[:,116:] ) )\n",
    "\n",
    "pred = model.predict(X)[:, 0]\n",
    "\n",
    "submission = pd.DataFrame( {'id': ids, 'loss': pred } )\n",
    "submission.to_csv('keras_predictions.csv', index = False)"
   ]
  },
  {
   "cell_type": "markdown",
   "metadata": {},
   "source": [
    "* Our MAE score on kaggle (after the end of the competition) is 1143.7 with this model."
   ]
  }
 ],
 "metadata": {
  "kernelspec": {
   "display_name": "Python 2",
   "language": "python",
   "name": "python2"
  },
  "language_info": {
   "codemirror_mode": {
    "name": "ipython",
    "version": 2
   },
   "file_extension": ".py",
   "mimetype": "text/x-python",
   "name": "python",
   "nbconvert_exporter": "python",
   "pygments_lexer": "ipython2",
   "version": "2.7.6"
  }
 },
 "nbformat": 4,
 "nbformat_minor": 1
}
